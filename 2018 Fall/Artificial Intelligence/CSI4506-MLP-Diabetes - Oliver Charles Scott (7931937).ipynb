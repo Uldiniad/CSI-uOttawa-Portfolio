{
 "cells": [
  {
   "cell_type": "markdown",
   "metadata": {},
   "source": [
    "# Réseaux de neurones\n",
    "### Perceptron multi-couches"
   ]
  },
  {
   "cell_type": "markdown",
   "metadata": {},
   "source": [
    "CSI4506 Intelligence Artificielle  \n",
    "Automne 2018  \n",
    "Caroline Barrière\n",
    "\n",
    "***"
   ]
  },
  {
   "cell_type": "markdown",
   "metadata": {},
   "source": [
    "Nous allons vers le domaine médical pour ce notebook.  La tâche de classification supervisée que nous attaquons est à propos de la réadmission de patients diabétiques dans les hopitaux, et ce en lien avec plusieurs attributs décrivant leur état physique, les procédures médicales suivies, les médicaments prescrits, etc.\n",
    "\n",
    "Tout *patient réadmis* est très dispendieux pour un système médical.  Cela montre, jusqu'à un certain point, qu'un patient a été retourné chez lui trop rapidement, avant qu'il se soit complètement rétabli.  L'ensemble de données que nous explorons classifie les réadmissions en trois valeurs: moins de 30 jours, plus de 30 jours, et aucune.\n",
    "\n",
    "Ce notebook vous permettra de poursuivre votre compréhension de design expérimental pour l'apprentissage machine supervisé, en particulier la classification supervisée.  Cela vous permettra aussi de vous familiariser avec le perceptron multi-couches.\n",
    "\n",
    "Nous ferons usage de deux packages: (1) **scikit-learn**, un très bon package pour l'apprentissage machine, avec lequel vous avez déjà expérimenté dans votre dernier notebook, et (2) **pandas**, un package très utile pour les sciences des données. Assurez-vous d'avoir installé la dernière version de scikit-learn (version 0.20), sinon certaines classes (le one-hot-encoder) ne fonctionneront pas.\n",
    "\n",
    "Comme ce notebook est votre 5ième ce semestre, certaines instructions sont moins explicites. \n",
    "\n",
    "***"
   ]
  },
  {
   "cell_type": "markdown",
   "metadata": {},
   "source": [
    "***DEVOIR***:  \n",
    "Parcourir le notebook, en exécutant chaque cellule, une à une.  \n",
    "Pour chaque **(TO DO)**, effectuer les tâches demandées.  \n",
    "Quand vous avez terminé, signez et soumettez votre notebook.\n",
    "\n",
    "***"
   ]
  },
  {
   "cell_type": "markdown",
   "metadata": {},
   "source": [
    "**1. Obtenir le dataset**\n",
    "\n",
    "D'abord, lisez la description du dataset sur la réadmission de patients diabétiques (https://www.kaggle.com/brandao/diabetes/home). \n",
    "\n",
    "Télécharger les données (fichier dataset_diabetes.zip) à partir de l'archive UCI:\n",
    "https://archive.ics.uci.edu/ml/datasets/Diabetes+130-US+hospitals+for+years+1999-2008\n",
    "\n",
    "Dans le fichier *dataset_diabetes.zip*, vous trouverez un fichier appelé *diabetic_data.csv* que nous utiliserons pour notre expérimentation. \n"
   ]
  },
  {
   "cell_type": "markdown",
   "metadata": {},
   "source": [
    "**2. Explorer le dataset**  \n",
    "Nous utiliserons le package *pandas* pour lire le fichier csv.  Cela crée une structure de donnée appelée *dataframe* qui contient toutes les données.\n",
    "\n",
    "Si vous avez des erreurs en important les packages, c'est peut-être qu'ils ne sont pas installés.  Assurez-vous de faire *pip install package_name* à l'invite de commande pour installer les packages requis."
   ]
  },
  {
   "cell_type": "code",
   "execution_count": 1,
   "metadata": {},
   "outputs": [],
   "source": [
    "# import the required packages for data analysis and machine learning\n",
    "\n",
    "import pandas as pd\n",
    "import sklearn"
   ]
  },
  {
   "cell_type": "markdown",
   "metadata": {},
   "source": [
    "Le code qui suit lit le fichier csv (qui j'ai mis dans un répertoire *Diabetes*, mais vous pouvez le mettre ailleurs). Ensuite, le code montre les 10 premières lignes du dataset."
   ]
  },
  {
   "cell_type": "code",
   "execution_count": 2,
   "metadata": {},
   "outputs": [
    {
     "data": {
      "text/html": [
       "<div>\n",
       "<style scoped>\n",
       "    .dataframe tbody tr th:only-of-type {\n",
       "        vertical-align: middle;\n",
       "    }\n",
       "\n",
       "    .dataframe tbody tr th {\n",
       "        vertical-align: top;\n",
       "    }\n",
       "\n",
       "    .dataframe thead th {\n",
       "        text-align: right;\n",
       "    }\n",
       "</style>\n",
       "<table border=\"1\" class=\"dataframe\">\n",
       "  <thead>\n",
       "    <tr style=\"text-align: right;\">\n",
       "      <th></th>\n",
       "      <th>encounter_id</th>\n",
       "      <th>patient_nbr</th>\n",
       "      <th>race</th>\n",
       "      <th>gender</th>\n",
       "      <th>age</th>\n",
       "      <th>weight</th>\n",
       "      <th>admission_type_id</th>\n",
       "      <th>discharge_disposition_id</th>\n",
       "      <th>admission_source_id</th>\n",
       "      <th>time_in_hospital</th>\n",
       "      <th>...</th>\n",
       "      <th>citoglipton</th>\n",
       "      <th>insulin</th>\n",
       "      <th>glyburide-metformin</th>\n",
       "      <th>glipizide-metformin</th>\n",
       "      <th>glimepiride-pioglitazone</th>\n",
       "      <th>metformin-rosiglitazone</th>\n",
       "      <th>metformin-pioglitazone</th>\n",
       "      <th>change</th>\n",
       "      <th>diabetesMed</th>\n",
       "      <th>readmitted</th>\n",
       "    </tr>\n",
       "  </thead>\n",
       "  <tbody>\n",
       "    <tr>\n",
       "      <th>0</th>\n",
       "      <td>2278392</td>\n",
       "      <td>8222157</td>\n",
       "      <td>Caucasian</td>\n",
       "      <td>Female</td>\n",
       "      <td>[0-10)</td>\n",
       "      <td>?</td>\n",
       "      <td>6</td>\n",
       "      <td>25</td>\n",
       "      <td>1</td>\n",
       "      <td>1</td>\n",
       "      <td>...</td>\n",
       "      <td>No</td>\n",
       "      <td>No</td>\n",
       "      <td>No</td>\n",
       "      <td>No</td>\n",
       "      <td>No</td>\n",
       "      <td>No</td>\n",
       "      <td>No</td>\n",
       "      <td>No</td>\n",
       "      <td>No</td>\n",
       "      <td>NO</td>\n",
       "    </tr>\n",
       "    <tr>\n",
       "      <th>1</th>\n",
       "      <td>149190</td>\n",
       "      <td>55629189</td>\n",
       "      <td>Caucasian</td>\n",
       "      <td>Female</td>\n",
       "      <td>[10-20)</td>\n",
       "      <td>?</td>\n",
       "      <td>1</td>\n",
       "      <td>1</td>\n",
       "      <td>7</td>\n",
       "      <td>3</td>\n",
       "      <td>...</td>\n",
       "      <td>No</td>\n",
       "      <td>Up</td>\n",
       "      <td>No</td>\n",
       "      <td>No</td>\n",
       "      <td>No</td>\n",
       "      <td>No</td>\n",
       "      <td>No</td>\n",
       "      <td>Ch</td>\n",
       "      <td>Yes</td>\n",
       "      <td>&gt;30</td>\n",
       "    </tr>\n",
       "    <tr>\n",
       "      <th>2</th>\n",
       "      <td>64410</td>\n",
       "      <td>86047875</td>\n",
       "      <td>AfricanAmerican</td>\n",
       "      <td>Female</td>\n",
       "      <td>[20-30)</td>\n",
       "      <td>?</td>\n",
       "      <td>1</td>\n",
       "      <td>1</td>\n",
       "      <td>7</td>\n",
       "      <td>2</td>\n",
       "      <td>...</td>\n",
       "      <td>No</td>\n",
       "      <td>No</td>\n",
       "      <td>No</td>\n",
       "      <td>No</td>\n",
       "      <td>No</td>\n",
       "      <td>No</td>\n",
       "      <td>No</td>\n",
       "      <td>No</td>\n",
       "      <td>Yes</td>\n",
       "      <td>NO</td>\n",
       "    </tr>\n",
       "    <tr>\n",
       "      <th>3</th>\n",
       "      <td>500364</td>\n",
       "      <td>82442376</td>\n",
       "      <td>Caucasian</td>\n",
       "      <td>Male</td>\n",
       "      <td>[30-40)</td>\n",
       "      <td>?</td>\n",
       "      <td>1</td>\n",
       "      <td>1</td>\n",
       "      <td>7</td>\n",
       "      <td>2</td>\n",
       "      <td>...</td>\n",
       "      <td>No</td>\n",
       "      <td>Up</td>\n",
       "      <td>No</td>\n",
       "      <td>No</td>\n",
       "      <td>No</td>\n",
       "      <td>No</td>\n",
       "      <td>No</td>\n",
       "      <td>Ch</td>\n",
       "      <td>Yes</td>\n",
       "      <td>NO</td>\n",
       "    </tr>\n",
       "    <tr>\n",
       "      <th>4</th>\n",
       "      <td>16680</td>\n",
       "      <td>42519267</td>\n",
       "      <td>Caucasian</td>\n",
       "      <td>Male</td>\n",
       "      <td>[40-50)</td>\n",
       "      <td>?</td>\n",
       "      <td>1</td>\n",
       "      <td>1</td>\n",
       "      <td>7</td>\n",
       "      <td>1</td>\n",
       "      <td>...</td>\n",
       "      <td>No</td>\n",
       "      <td>Steady</td>\n",
       "      <td>No</td>\n",
       "      <td>No</td>\n",
       "      <td>No</td>\n",
       "      <td>No</td>\n",
       "      <td>No</td>\n",
       "      <td>Ch</td>\n",
       "      <td>Yes</td>\n",
       "      <td>NO</td>\n",
       "    </tr>\n",
       "    <tr>\n",
       "      <th>5</th>\n",
       "      <td>35754</td>\n",
       "      <td>82637451</td>\n",
       "      <td>Caucasian</td>\n",
       "      <td>Male</td>\n",
       "      <td>[50-60)</td>\n",
       "      <td>?</td>\n",
       "      <td>2</td>\n",
       "      <td>1</td>\n",
       "      <td>2</td>\n",
       "      <td>3</td>\n",
       "      <td>...</td>\n",
       "      <td>No</td>\n",
       "      <td>Steady</td>\n",
       "      <td>No</td>\n",
       "      <td>No</td>\n",
       "      <td>No</td>\n",
       "      <td>No</td>\n",
       "      <td>No</td>\n",
       "      <td>No</td>\n",
       "      <td>Yes</td>\n",
       "      <td>&gt;30</td>\n",
       "    </tr>\n",
       "    <tr>\n",
       "      <th>6</th>\n",
       "      <td>55842</td>\n",
       "      <td>84259809</td>\n",
       "      <td>Caucasian</td>\n",
       "      <td>Male</td>\n",
       "      <td>[60-70)</td>\n",
       "      <td>?</td>\n",
       "      <td>3</td>\n",
       "      <td>1</td>\n",
       "      <td>2</td>\n",
       "      <td>4</td>\n",
       "      <td>...</td>\n",
       "      <td>No</td>\n",
       "      <td>Steady</td>\n",
       "      <td>No</td>\n",
       "      <td>No</td>\n",
       "      <td>No</td>\n",
       "      <td>No</td>\n",
       "      <td>No</td>\n",
       "      <td>Ch</td>\n",
       "      <td>Yes</td>\n",
       "      <td>NO</td>\n",
       "    </tr>\n",
       "    <tr>\n",
       "      <th>7</th>\n",
       "      <td>63768</td>\n",
       "      <td>114882984</td>\n",
       "      <td>Caucasian</td>\n",
       "      <td>Male</td>\n",
       "      <td>[70-80)</td>\n",
       "      <td>?</td>\n",
       "      <td>1</td>\n",
       "      <td>1</td>\n",
       "      <td>7</td>\n",
       "      <td>5</td>\n",
       "      <td>...</td>\n",
       "      <td>No</td>\n",
       "      <td>No</td>\n",
       "      <td>No</td>\n",
       "      <td>No</td>\n",
       "      <td>No</td>\n",
       "      <td>No</td>\n",
       "      <td>No</td>\n",
       "      <td>No</td>\n",
       "      <td>Yes</td>\n",
       "      <td>&gt;30</td>\n",
       "    </tr>\n",
       "    <tr>\n",
       "      <th>8</th>\n",
       "      <td>12522</td>\n",
       "      <td>48330783</td>\n",
       "      <td>Caucasian</td>\n",
       "      <td>Female</td>\n",
       "      <td>[80-90)</td>\n",
       "      <td>?</td>\n",
       "      <td>2</td>\n",
       "      <td>1</td>\n",
       "      <td>4</td>\n",
       "      <td>13</td>\n",
       "      <td>...</td>\n",
       "      <td>No</td>\n",
       "      <td>Steady</td>\n",
       "      <td>No</td>\n",
       "      <td>No</td>\n",
       "      <td>No</td>\n",
       "      <td>No</td>\n",
       "      <td>No</td>\n",
       "      <td>Ch</td>\n",
       "      <td>Yes</td>\n",
       "      <td>NO</td>\n",
       "    </tr>\n",
       "    <tr>\n",
       "      <th>9</th>\n",
       "      <td>15738</td>\n",
       "      <td>63555939</td>\n",
       "      <td>Caucasian</td>\n",
       "      <td>Female</td>\n",
       "      <td>[90-100)</td>\n",
       "      <td>?</td>\n",
       "      <td>3</td>\n",
       "      <td>3</td>\n",
       "      <td>4</td>\n",
       "      <td>12</td>\n",
       "      <td>...</td>\n",
       "      <td>No</td>\n",
       "      <td>Steady</td>\n",
       "      <td>No</td>\n",
       "      <td>No</td>\n",
       "      <td>No</td>\n",
       "      <td>No</td>\n",
       "      <td>No</td>\n",
       "      <td>Ch</td>\n",
       "      <td>Yes</td>\n",
       "      <td>NO</td>\n",
       "    </tr>\n",
       "  </tbody>\n",
       "</table>\n",
       "<p>10 rows × 50 columns</p>\n",
       "</div>"
      ],
      "text/plain": [
       "   encounter_id  patient_nbr             race  gender       age weight  \\\n",
       "0       2278392      8222157        Caucasian  Female    [0-10)      ?   \n",
       "1        149190     55629189        Caucasian  Female   [10-20)      ?   \n",
       "2         64410     86047875  AfricanAmerican  Female   [20-30)      ?   \n",
       "3        500364     82442376        Caucasian    Male   [30-40)      ?   \n",
       "4         16680     42519267        Caucasian    Male   [40-50)      ?   \n",
       "5         35754     82637451        Caucasian    Male   [50-60)      ?   \n",
       "6         55842     84259809        Caucasian    Male   [60-70)      ?   \n",
       "7         63768    114882984        Caucasian    Male   [70-80)      ?   \n",
       "8         12522     48330783        Caucasian  Female   [80-90)      ?   \n",
       "9         15738     63555939        Caucasian  Female  [90-100)      ?   \n",
       "\n",
       "   admission_type_id  discharge_disposition_id  admission_source_id  \\\n",
       "0                  6                        25                    1   \n",
       "1                  1                         1                    7   \n",
       "2                  1                         1                    7   \n",
       "3                  1                         1                    7   \n",
       "4                  1                         1                    7   \n",
       "5                  2                         1                    2   \n",
       "6                  3                         1                    2   \n",
       "7                  1                         1                    7   \n",
       "8                  2                         1                    4   \n",
       "9                  3                         3                    4   \n",
       "\n",
       "   time_in_hospital    ...     citoglipton insulin  glyburide-metformin  \\\n",
       "0                 1    ...              No      No                   No   \n",
       "1                 3    ...              No      Up                   No   \n",
       "2                 2    ...              No      No                   No   \n",
       "3                 2    ...              No      Up                   No   \n",
       "4                 1    ...              No  Steady                   No   \n",
       "5                 3    ...              No  Steady                   No   \n",
       "6                 4    ...              No  Steady                   No   \n",
       "7                 5    ...              No      No                   No   \n",
       "8                13    ...              No  Steady                   No   \n",
       "9                12    ...              No  Steady                   No   \n",
       "\n",
       "   glipizide-metformin  glimepiride-pioglitazone  metformin-rosiglitazone  \\\n",
       "0                   No                        No                       No   \n",
       "1                   No                        No                       No   \n",
       "2                   No                        No                       No   \n",
       "3                   No                        No                       No   \n",
       "4                   No                        No                       No   \n",
       "5                   No                        No                       No   \n",
       "6                   No                        No                       No   \n",
       "7                   No                        No                       No   \n",
       "8                   No                        No                       No   \n",
       "9                   No                        No                       No   \n",
       "\n",
       "   metformin-pioglitazone  change diabetesMed readmitted  \n",
       "0                      No      No          No         NO  \n",
       "1                      No      Ch         Yes        >30  \n",
       "2                      No      No         Yes         NO  \n",
       "3                      No      Ch         Yes         NO  \n",
       "4                      No      Ch         Yes         NO  \n",
       "5                      No      No         Yes        >30  \n",
       "6                      No      Ch         Yes         NO  \n",
       "7                      No      No         Yes        >30  \n",
       "8                      No      Ch         Yes         NO  \n",
       "9                      No      Ch         Yes         NO  \n",
       "\n",
       "[10 rows x 50 columns]"
      ]
     },
     "execution_count": 2,
     "metadata": {},
     "output_type": "execute_result"
    }
   ],
   "source": [
    "# Read the dataset, show top rows\n",
    "\n",
    "X = pd.read_csv(\"Diabetes/diabetic_data.csv\")\n",
    "X.head(10)"
   ]
  },
  {
   "cell_type": "code",
   "execution_count": 3,
   "metadata": {},
   "outputs": [
    {
     "data": {
      "text/plain": [
       "['encounter_id',\n",
       " 'patient_nbr',\n",
       " 'race',\n",
       " 'gender',\n",
       " 'age',\n",
       " 'weight',\n",
       " 'admission_type_id',\n",
       " 'discharge_disposition_id',\n",
       " 'admission_source_id',\n",
       " 'time_in_hospital',\n",
       " 'payer_code',\n",
       " 'medical_specialty',\n",
       " 'num_lab_procedures',\n",
       " 'num_procedures',\n",
       " 'num_medications',\n",
       " 'number_outpatient',\n",
       " 'number_emergency',\n",
       " 'number_inpatient',\n",
       " 'diag_1',\n",
       " 'diag_2',\n",
       " 'diag_3',\n",
       " 'number_diagnoses',\n",
       " 'max_glu_serum',\n",
       " 'A1Cresult',\n",
       " 'metformin',\n",
       " 'repaglinide',\n",
       " 'nateglinide',\n",
       " 'chlorpropamide',\n",
       " 'glimepiride',\n",
       " 'acetohexamide',\n",
       " 'glipizide',\n",
       " 'glyburide',\n",
       " 'tolbutamide',\n",
       " 'pioglitazone',\n",
       " 'rosiglitazone',\n",
       " 'acarbose',\n",
       " 'miglitol',\n",
       " 'troglitazone',\n",
       " 'tolazamide',\n",
       " 'examide',\n",
       " 'citoglipton',\n",
       " 'insulin',\n",
       " 'glyburide-metformin',\n",
       " 'glipizide-metformin',\n",
       " 'glimepiride-pioglitazone',\n",
       " 'metformin-rosiglitazone',\n",
       " 'metformin-pioglitazone',\n",
       " 'change',\n",
       " 'diabetesMed',\n",
       " 'readmitted']"
      ]
     },
     "execution_count": 3,
     "metadata": {},
     "output_type": "execute_result"
    }
   ],
   "source": [
    "# Show all attributes\n",
    "list(X)"
   ]
  },
  {
   "cell_type": "code",
   "execution_count": 4,
   "metadata": {},
   "outputs": [
    {
     "name": "stdout",
     "output_type": "stream",
     "text": [
      "(101766, 50)\n",
      "Caucasian          76099\n",
      "AfricanAmerican    19210\n",
      "?                   2273\n",
      "Hispanic            2037\n",
      "Other               1506\n",
      "Asian                641\n",
      "Name: race, dtype: int64\n"
     ]
    }
   ],
   "source": [
    "# Examples of data exploration\n",
    "\n",
    "print(X.shape)\n",
    "print(X['race'].value_counts())"
   ]
  },
  {
   "cell_type": "markdown",
   "metadata": {},
   "source": [
    "**(TO-DO - Q1)** Inspiré des quelques lignes de code ci-haut, écrivez du code pour répondre aux questions suivantes.  Vous pouvez faire une partie du processus manuellement (le code écrit devrait seulement vous aider à répondre aux questions). \n",
    "\n",
    "1. Combien d'exemples y a-t-il dans le dataset?\n",
    "2. Combien d'attributs y a-t-il dans le dataset?\n",
    "3. Quels sont les créneaux d'ages possibles, et le nombre d'exemples de chaque créneau?\n",
    "4. Quelles sont les probabilités a prori de chaque classe (>30, NO, <30) ?\n",
    "5. Y a-t-il des patients présents plus de 20 fois dans le dataset?"
   ]
  },
  {
   "cell_type": "code",
   "execution_count": 5,
   "metadata": {},
   "outputs": [
    {
     "name": "stdout",
     "output_type": "stream",
     "text": [
      "1.\n",
      "101766 examples\n",
      "\n",
      "2.\n",
      "50 attributes\n",
      "\n",
      "3.\n",
      "[70-80)     26068\n",
      "[60-70)     22483\n",
      "[50-60)     17256\n",
      "[80-90)     17197\n",
      "[40-50)      9685\n",
      "[30-40)      3775\n",
      "[90-100)     2793\n",
      "[20-30)      1657\n",
      "[10-20)       691\n",
      "[0-10)        161\n",
      "Name: age, dtype: int64\n",
      "\n",
      "4.\n",
      "<30: 2509/101766 = 2.4654599768095435%\n",
      "NO: 3775/101766 = 3.709490399544052%\n",
      ">30: 95482/101766 = 93.82504962364641%\n",
      "\n",
      "5.\n",
      "It is True that there are patients that have been present more than 20 times\n"
     ]
    }
   ],
   "source": [
    "#1\n",
    "print(\"1.\")\n",
    "print(str(X['encounter_id'].count()) + \" examples\")\n",
    "print()\n",
    "\n",
    "#2\n",
    "print(\"2.\")\n",
    "print(str(len(list(X))) + \" attributes\")\n",
    "print()\n",
    "\n",
    "#3\n",
    "print(\"3.\")\n",
    "print(X['age'].value_counts())\n",
    "print()\n",
    "\n",
    "#4\n",
    "print(\"4.\")\n",
    "print(\"<30: \" + str(X['age'].value_counts()['[0-10)'] + X['age'].value_counts()['[10-20)'] + X['age'].value_counts()['[20-30)']) + '/' + str(X['age'].count()) + ' = ' + str((X['age'].value_counts()['[0-10)'] + X['age'].value_counts()['[10-20)'] + X['age'].value_counts()['[20-30)'])/X['age'].count()*100) + '%')\n",
    "print(\"NO: \" + str(X['age'].value_counts()['[30-40)']) + '/' + str(X['age'].count()) + ' = ' + str(X['age'].value_counts()['[30-40)']/X['age'].count()*100) + '%')\n",
    "print(\">30: \" + str(X['age'].value_counts()['[40-50)'] + X['age'].value_counts()['[50-60)'] + X['age'].value_counts()['[60-70)'] + X['age'].value_counts()['[70-80)'] +  X['age'].value_counts()['[80-90)'] + X['age'].value_counts()['[90-100)']) + '/' + str(X['age'].count()) + ' = ' + str((X['age'].value_counts()['[40-50)'] + X['age'].value_counts()['[50-60)'] + X['age'].value_counts()['[60-70)'] + X['age'].value_counts()['[70-80)'] +  X['age'].value_counts()['[80-90)'] + X['age'].value_counts()['[90-100)'])/X['age'].count()*100) + '%')\n",
    "print()\n",
    "\n",
    "#5\n",
    "print(\"5.\")\n",
    "max_visits = max(X['patient_nbr'].value_counts())\n",
    "answer = (max_visits > 20)\n",
    "if answer:\n",
    "    print(\"It is \" + str(answer) + \" that there are patients that have been present more than 20 times\")"
   ]
  },
  {
   "cell_type": "markdown",
   "metadata": {},
   "source": [
    "**3.  Préparer le dataset pour l'expérimentation**\n",
    "\n",
    "Nous ferons 2 étapes pour préparer le data pour l'expérimentation: (1) extraire l'attribut correspondant à la classe que nous voulons prédire pour en faire notre *output*, (2) séparer le dataset en ensemble d'entraînement et ensemble de test."
   ]
  },
  {
   "cell_type": "code",
   "execution_count": 6,
   "metadata": {},
   "outputs": [],
   "source": [
    "# This can ONLY BE DONE ONCE, as we pop the values into a new variable to be used as predicted class\n",
    "y = X.pop(\"readmitted\").values"
   ]
  },
  {
   "cell_type": "code",
   "execution_count": 7,
   "metadata": {},
   "outputs": [
    {
     "name": "stdout",
     "output_type": "stream",
     "text": [
      "(76324, 49)\n",
      "(25442,)\n"
     ]
    }
   ],
   "source": [
    "# split the large dataset into train and test\n",
    "from sklearn.model_selection import train_test_split\n",
    "\n",
    "X_train, X_test, y_train, y_test = train_test_split(X, y, test_size = 0.25)\n",
    "print(X_train.shape)\n",
    "print(y_test.shape)"
   ]
  },
  {
   "cell_type": "markdown",
   "metadata": {},
   "source": [
    "**4. Encodage des entrées**\n",
    "\n",
    "Nous avons vu en classe que les attributs multinomiaux doivent être encodés en attributs binaires avec une approche *one-hot* voulant dire qu'une seule valeur sera active à la fois.  Le code ci-bas permet de faire l'encodage."
   ]
  },
  {
   "cell_type": "code",
   "execution_count": 8,
   "metadata": {},
   "outputs": [
    {
     "data": {
      "text/plain": [
       "OneHotEncoder(categorical_features=None, categories=None,\n",
       "       dtype=<class 'numpy.float64'>, handle_unknown='ignore',\n",
       "       n_values=None, sparse=False)"
      ]
     },
     "execution_count": 8,
     "metadata": {},
     "output_type": "execute_result"
    }
   ],
   "source": [
    "from sklearn import preprocessing\n",
    "from sklearn.preprocessing import OneHotEncoder\n",
    "\n",
    "# encoder\n",
    "ohe = OneHotEncoder(sparse=False, handle_unknown='ignore')\n",
    "\n",
    "# since the dataset is quite large, try a subset of features, otherwise it takes a long time to learn\n",
    "featureSet = ['race','gender','age', 'weight', 'time_in_hospital', 'num_lab_procedures', 'num_procedures',\n",
    " 'num_medications']\n",
    "\n",
    "# make a copy of the training set containing only the chosen features\n",
    "X_train_sf = X_train[featureSet].copy()\n",
    "X_test_sf = X_test[featureSet].copy()\n",
    "\n",
    "# IF you wanted to try with the full dataset, try to redo the steps with this (optional - takes a lot of time)\n",
    "# X_train_allf = X_train[:].copy()\n",
    "# X_test_allf = X_test[:].copy()\n",
    "\n",
    "# perform the one-hot encoder on the 3 features selected\n",
    "ohe.fit(X_train_sf)\n"
   ]
  },
  {
   "cell_type": "code",
   "execution_count": 9,
   "metadata": {},
   "outputs": [
    {
     "name": "stdout",
     "output_type": "stream",
     "text": [
      "['x0_?' 'x0_AfricanAmerican' 'x0_Asian' 'x0_Caucasian' 'x0_Hispanic'\n",
      " 'x0_Other' 'x1_Female' 'x1_Male' 'x1_Unknown/Invalid' 'x2_[0-10)'\n",
      " 'x2_[10-20)' 'x2_[20-30)' 'x2_[30-40)' 'x2_[40-50)' 'x2_[50-60)'\n",
      " 'x2_[60-70)' 'x2_[70-80)' 'x2_[80-90)' 'x2_[90-100)' 'x3_>200' 'x3_?'\n",
      " 'x3_[0-25)' 'x3_[100-125)' 'x3_[125-150)' 'x3_[150-175)' 'x3_[175-200)'\n",
      " 'x3_[25-50)' 'x3_[50-75)' 'x3_[75-100)' 'x4_1' 'x4_2' 'x4_3' 'x4_4'\n",
      " 'x4_5' 'x4_6' 'x4_7' 'x4_8' 'x4_9' 'x4_10' 'x4_11' 'x4_12' 'x4_13'\n",
      " 'x4_14' 'x5_1' 'x5_2' 'x5_3' 'x5_4' 'x5_5' 'x5_6' 'x5_7' 'x5_8' 'x5_9'\n",
      " 'x5_10' 'x5_11' 'x5_12' 'x5_13' 'x5_14' 'x5_15' 'x5_16' 'x5_17' 'x5_18'\n",
      " 'x5_19' 'x5_20' 'x5_21' 'x5_22' 'x5_23' 'x5_24' 'x5_25' 'x5_26' 'x5_27'\n",
      " 'x5_28' 'x5_29' 'x5_30' 'x5_31' 'x5_32' 'x5_33' 'x5_34' 'x5_35' 'x5_36'\n",
      " 'x5_37' 'x5_38' 'x5_39' 'x5_40' 'x5_41' 'x5_42' 'x5_43' 'x5_44' 'x5_45'\n",
      " 'x5_46' 'x5_47' 'x5_48' 'x5_49' 'x5_50' 'x5_51' 'x5_52' 'x5_53' 'x5_54'\n",
      " 'x5_55' 'x5_56' 'x5_57' 'x5_58' 'x5_59' 'x5_60' 'x5_61' 'x5_62' 'x5_63'\n",
      " 'x5_64' 'x5_65' 'x5_66' 'x5_67' 'x5_68' 'x5_69' 'x5_70' 'x5_71' 'x5_72'\n",
      " 'x5_73' 'x5_74' 'x5_75' 'x5_76' 'x5_77' 'x5_78' 'x5_79' 'x5_80' 'x5_81'\n",
      " 'x5_82' 'x5_83' 'x5_84' 'x5_85' 'x5_86' 'x5_87' 'x5_88' 'x5_89' 'x5_90'\n",
      " 'x5_91' 'x5_92' 'x5_93' 'x5_94' 'x5_95' 'x5_96' 'x5_97' 'x5_98' 'x5_99'\n",
      " 'x5_100' 'x5_101' 'x5_102' 'x5_103' 'x5_104' 'x5_105' 'x5_106' 'x5_107'\n",
      " 'x5_108' 'x5_109' 'x5_111' 'x5_113' 'x5_114' 'x5_118' 'x5_132' 'x6_0'\n",
      " 'x6_1' 'x6_2' 'x6_3' 'x6_4' 'x6_5' 'x6_6' 'x7_1' 'x7_2' 'x7_3' 'x7_4'\n",
      " 'x7_5' 'x7_6' 'x7_7' 'x7_8' 'x7_9' 'x7_10' 'x7_11' 'x7_12' 'x7_13'\n",
      " 'x7_14' 'x7_15' 'x7_16' 'x7_17' 'x7_18' 'x7_19' 'x7_20' 'x7_21' 'x7_22'\n",
      " 'x7_23' 'x7_24' 'x7_25' 'x7_26' 'x7_27' 'x7_28' 'x7_29' 'x7_30' 'x7_31'\n",
      " 'x7_32' 'x7_33' 'x7_34' 'x7_35' 'x7_36' 'x7_37' 'x7_38' 'x7_39' 'x7_40'\n",
      " 'x7_41' 'x7_42' 'x7_43' 'x7_44' 'x7_45' 'x7_46' 'x7_47' 'x7_48' 'x7_49'\n",
      " 'x7_50' 'x7_51' 'x7_52' 'x7_53' 'x7_54' 'x7_55' 'x7_56' 'x7_57' 'x7_58'\n",
      " 'x7_59' 'x7_60' 'x7_61' 'x7_62' 'x7_63' 'x7_64' 'x7_65' 'x7_66' 'x7_67'\n",
      " 'x7_68' 'x7_69' 'x7_70' 'x7_72' 'x7_74' 'x7_75']\n"
     ]
    }
   ],
   "source": [
    "# The one-hot-encoder renames the features\n",
    "\n",
    "feature_names = ohe.get_feature_names()\n",
    "print(feature_names)"
   ]
  },
  {
   "cell_type": "code",
   "execution_count": 10,
   "metadata": {},
   "outputs": [],
   "source": [
    "# We can now encode the training and test set with the new features\n",
    "\n",
    "X_train_sf_encoded = ohe.transform(X_train_sf)\n",
    "X_test_sf_encoded = ohe.transform(X_test_sf)"
   ]
  },
  {
   "cell_type": "markdown",
   "metadata": {},
   "source": [
    "**(TO-DO - Q2)** - Combien d'attributs avons-nous après l'encodage?  Pourquoi y en a-t-il autant?  Montrer le format (*shape*) du dataset d'entraînement maintennant."
   ]
  },
  {
   "cell_type": "code",
   "execution_count": 11,
   "metadata": {},
   "outputs": [
    {
     "name": "stdout",
     "output_type": "stream",
     "text": [
      "There are 237 attributes after encoding. This is because the one-hot encoder binarizes features\n",
      "(76324, 237)\n"
     ]
    }
   ],
   "source": [
    "# We can see the shape of the training data\n",
    "print (\"There are \" + str(X_train_sf_encoded.shape[1]) + \" attributes after encoding. This is because the one-hot encoder binarizes features\")\n",
    "print(X_train_sf_encoded.shape)"
   ]
  },
  {
   "cell_type": "markdown",
   "metadata": {},
   "source": [
    "**5. Entraîner le perceptron multi-couches**"
   ]
  },
  {
   "cell_type": "code",
   "execution_count": 12,
   "metadata": {},
   "outputs": [],
   "source": [
    "# Import the models\n",
    "from sklearn.neural_network import MLPClassifier\n",
    "import datetime\n",
    "import matplotlib.pyplot as plt"
   ]
  },
  {
   "cell_type": "code",
   "execution_count": 13,
   "metadata": {},
   "outputs": [],
   "source": [
    "# Define the model\n",
    "clf = MLPClassifier(solver='lbfgs', alpha=1e-5, hidden_layer_sizes=(100, 2), random_state=1, max_iter=100, learning_rate_init=.01, warm_start=True)"
   ]
  },
  {
   "cell_type": "markdown",
   "metadata": {},
   "source": [
    "**(TO-DO - Q3)** - Expliquer les paramètres choisis ci-haut, et expliquer le \"score\" (utilisé ci-bas).   Vous pourrez regarder la document du MLPclassifier pour comprendre le score."
   ]
  },
  {
   "cell_type": "code",
   "execution_count": 14,
   "metadata": {},
   "outputs": [
    {
     "name": "stdout",
     "output_type": "stream",
     "text": [
      "Iteration: 1-- 2018-11-13 12:27:51.185573\n",
      "Iteration: 2-- 2018-11-13 12:28:33.535677\n",
      "Iteration: 3-- 2018-11-13 12:29:25.047917\n",
      "Iteration: 4-- 2018-11-13 12:30:07.750855\n",
      "Iteration: 5-- 2018-11-13 12:30:51.847924\n",
      "Iteration: 6-- 2018-11-13 12:31:37.538600\n",
      "Iteration: 7-- 2018-11-13 12:32:22.548396\n",
      "Iteration: 8-- 2018-11-13 12:33:08.947239\n",
      "Iteration: 9-- 2018-11-13 12:33:54.077570\n"
     ]
    }
   ],
   "source": [
    "# The solver ‘lbfgs’ is an optimizer in the family of quasi-Newton methods. On relatively small datasets, it can converge faster and perform better.\n",
    "# alpha is an L2 penalty (regularization term) parameter that helps in avoiding overfitting by penalizing weights with large magnitudes. A relatively small alpha may fix high bias (a sign of underfitting) by encouraging larger weights, potentially resulting in a more complicated decision boundary.\n",
    "# hidden_layer_sizes=(100, 2) indicates that there will be 100 neurons at the first hidden layer and two at the second.\n",
    "# random_state=1 is setting the seed used by the random number generator to 1. This allows us to better test different implementations / variations since we know that the generated values will be the same if the same seed is used.\n",
    "# max_iter is the maximum number of iterations. Ensures termination in case there is no convergence. But if there is, convergence may happen before max_iter is reached.\n",
    "# learning_rate_init is the initial learning rate used. It controls the step-size in updating the weights. Only used when solver=’sgd’ or ‘adam’.\n",
    "# When set to True, warm_start reuses the solution of the previous call to fit as initialization which may be more efficient.\n",
    "# The score returns the mean accuracy on the given test data and labels. In multi-label classification, this is the subset accuracy which is a harsh metric since you require for each sample that each label set be correctly predicted.\n",
    "\n",
    "# This steps trains the model\n",
    "# ATTENTION - THIS CAN TAKE LONG IF YOU CHOSE MANY ITERATIONS AND/OR LARGE HIDDEN LAYERS\n",
    "# Each iteration, on my machine, takes about 80 seconds.  Be patient.\n",
    "scores_train = []\n",
    "for i in range(1,10):\n",
    "    print(\"Iteration: \" + str(i) + \"-- \" + str(datetime.datetime.now()))\n",
    "    clf.fit(X_train_sf_encoded, y_train)\n",
    "    score = clf.score(X_train_sf_encoded, y_train)\n",
    "    scores_train.append(score)\n",
    "# print(scores_train)"
   ]
  },
  {
   "cell_type": "code",
   "execution_count": 15,
   "metadata": {},
   "outputs": [
    {
     "data": {
      "image/png": "[encoded data removed]",
      "text/plain": [
       "<Figure size 432x288 with 1 Axes>"
      ]
     },
     "metadata": {
      "needs_background": "light"
     },
     "output_type": "display_data"
    }
   ],
   "source": [
    "# plot the scores\n",
    "plt.plot([i for i in range(len(scores_train))], scores_train)\n",
    "plt.ylabel('Score')\n",
    "plt.xlabel('Iteration')\n",
    "plt.show()"
   ]
  },
  {
   "cell_type": "markdown",
   "metadata": {},
   "source": [
    "**(TO-DO : Q4) Décrivez ce que fait le code ci-bas.**"
   ]
  },
  {
   "cell_type": "code",
   "execution_count": 16,
   "metadata": {},
   "outputs": [
    {
     "name": "stdout",
     "output_type": "stream",
     "text": [
      "['>30' '>30' '>30' '>30' 'NO' '>30' 'NO' 'NO' 'NO' 'NO']\n",
      "['>30' '>30' 'NO' '>30' 'NO' '>30' 'NO' 'NO' 'NO' '>30']\n"
     ]
    },
    {
     "data": {
      "text/plain": [
       "array([[0.18894038, 0.62089452, 0.1901651 ],\n",
       "       [0.1755638 , 0.56041839, 0.26401781],\n",
       "       [0.14986081, 0.4597297 , 0.39040949],\n",
       "       [0.17701718, 0.56659569, 0.25638713],\n",
       "       [0.11660739, 0.34312452, 0.54026809],\n",
       "       [0.2018258 , 0.69808045, 0.10009375],\n",
       "       [0.05156154, 0.13890218, 0.80953628],\n",
       "       [0.1238236 , 0.36754571, 0.5086307 ],\n",
       "       [0.08487096, 0.24016567, 0.67496337],\n",
       "       [0.06556415, 0.1806506 , 0.75378525]])"
      ]
     },
     "execution_count": 16,
     "metadata": {},
     "output_type": "execute_result"
    }
   ],
   "source": [
    "# Show the prediction on the first 10 examples\n",
    "y_predicted = clf.predict(X_train_sf_encoded[0:10])\n",
    "# Attempts to predict the age range given the based on the one-hot encoded features from the dataset for the first 10 elements of X_train_sf_encoded\n",
    "print(y_predicted)\n",
    "# Prints the prediction\n",
    "print(y_train[0:10])\n",
    "# Prints the first 10 values of the training set to compare the accuracy of the predictions\n",
    "clf.predict_proba(X_train_sf_encoded[0:10])\n",
    "# Prints the estimated probability of the sample for each class in the model"
   ]
  },
  {
   "cell_type": "markdown",
   "metadata": {},
   "source": [
    "**5. Tester le modèle obtenu (Multi-layer Perceptron)**"
   ]
  },
  {
   "cell_type": "markdown",
   "metadata": {},
   "source": [
    "**(TO-DO : Q5)** Maintenant que le modèle est entraîné, évaluez-le sur l'ensemble de test.  Quel est le score?  Comment ce score se compare-t-il à celui obtenu sur l'ensemble d'entraînement?"
   ]
  },
  {
   "cell_type": "code",
   "execution_count": 17,
   "metadata": {},
   "outputs": [
    {
     "name": "stdout",
     "output_type": "stream",
     "text": [
      "0.4848282367738385\n",
      "Compared to the training set, the score is lower\n"
     ]
    }
   ],
   "source": [
    "# y_predicted = clf.predict(X_test_sf_encoded)\n",
    "# print(y_predicted)\n",
    "# print(y_test)\n",
    "# clf.predict_proba(X_test_sf_encoded)\n",
    "\n",
    "score1 = clf.score(X_test_sf_encoded, y_test)\n",
    "print(score1)\n",
    "if score1 < scores_train[-1]:\n",
    "    print(\"Compared to the training set, the test set scores lower\")\n",
    "else:\n",
    "    print(\"Compared to the training set, the test set scores higher\")"
   ]
  },
  {
   "cell_type": "markdown",
   "metadata": {},
   "source": [
    "**6. Varier les hyperparamètres**\n",
    "\n",
    "Plusieurs hyperparamètres peuvent être variés (nombre de couches cachées, taux d'apprentissage, etc).  Cela prend beaucoup de temps pour faire ces variations..."
   ]
  },
  {
   "cell_type": "markdown",
   "metadata": {},
   "source": [
    "**(TO-DO - Q6)** - Refaire les expérimentations ci-haut(entraînement et test) en changeant l'architecture des niveaux cachés pour avoir 3 couches de 30 unités chacune.  NE MODIFIER PAS le code ci-haut, mais recopier la partie du code dont vous avez besoin et modifier la pour faire des tests (en utilisant de nouveaux noms de variables si nécessaire).  Comparer vos résultats avec ceux de la première expérimenation.  Est-ce mieux?  Conserver le meilleur modèle et tenter une autre modification, soit d'utiliser une fonction d'activation sigmoide.  Est-ce maintenant mieux ou moins bien?"
   ]
  },
  {
   "cell_type": "code",
   "execution_count": 18,
   "metadata": {},
   "outputs": [
    {
     "name": "stdout",
     "output_type": "stream",
     "text": [
      "Iteration: 1-- 2018-11-13 12:34:43.025658\n",
      "Iteration: 2-- 2018-11-13 12:35:13.631616\n",
      "Iteration: 3-- 2018-11-13 12:35:44.780036\n",
      "Iteration: 4-- 2018-11-13 12:36:15.748509\n",
      "Iteration: 5-- 2018-11-13 12:36:47.058337\n",
      "Iteration: 6-- 2018-11-13 12:37:18.187482\n",
      "Iteration: 7-- 2018-11-13 12:37:50.551768\n",
      "Iteration: 8-- 2018-11-13 12:38:21.387014\n",
      "Iteration: 9-- 2018-11-13 12:38:52.954645\n"
     ]
    },
    {
     "data": {
      "image/png": "[encoded data removed]",
      "text/plain": [
       "<Figure size 432x288 with 1 Axes>"
      ]
     },
     "metadata": {
      "needs_background": "light"
     },
     "output_type": "display_data"
    },
    {
     "name": "stdout",
     "output_type": "stream",
     "text": [
      "0.501139847496266\n",
      "Compared to hidden_layer_sizes=(100,2), (30,30,30) scores higher\n",
      "Iteration: 1-- 2018-11-13 12:39:24.735891\n",
      "Iteration: 2-- 2018-11-13 12:39:28.768348\n",
      "Iteration: 3-- 2018-11-13 12:39:29.988150\n",
      "Iteration: 4-- 2018-11-13 12:39:31.130828\n",
      "Iteration: 5-- 2018-11-13 12:39:32.314483\n",
      "Iteration: 6-- 2018-11-13 12:39:33.566786\n",
      "Iteration: 7-- 2018-11-13 12:39:34.859596\n",
      "Iteration: 8-- 2018-11-13 12:39:36.126366\n",
      "Iteration: 9-- 2018-11-13 12:39:37.269983\n"
     ]
    },
    {
     "data": {
      "image/png": "[encoded data removed]",
      "text/plain": [
       "<Figure size 432x288 with 1 Axes>"
      ]
     },
     "metadata": {
      "needs_background": "light"
     },
     "output_type": "display_data"
    },
    {
     "name": "stdout",
     "output_type": "stream",
     "text": [
      "0.5382831538401069\n",
      "Compared to default activation, sigmoid scores higher\n"
     ]
    }
   ],
   "source": [
    "# Define the model\n",
    "clf2 = MLPClassifier(solver='lbfgs', alpha=1e-5, hidden_layer_sizes=(30, 30, 30), random_state=1, max_iter=100, learning_rate_init=.01, warm_start=True)\n",
    "scores_train2 = []\n",
    "for i in range(1,10):\n",
    "    print(\"Iteration: \" + str(i) + \"-- \" + str(datetime.datetime.now()))\n",
    "    clf2.fit(X_train_sf_encoded, y_train)\n",
    "    score = clf2.score(X_train_sf_encoded, y_train)\n",
    "    scores_train2.append(score)\n",
    "\n",
    "plt.plot([i for i in range(len(scores_train2))], scores_train2)\n",
    "plt.ylabel('Score')\n",
    "plt.xlabel('Iteration')\n",
    "plt.show()\n",
    "\n",
    "# y_predicted2 = clf2.predict(X_train_sf_encoded[0:10])\n",
    "# print(y_predicted2)\n",
    "# print(y_train[0:10])\n",
    "# clf2.predict_proba(X_train_sf_encoded[0:10])\n",
    "\n",
    "score2 = clf2.score(X_test_sf_encoded, y_test)\n",
    "print(score2)\n",
    "hidden_layers = -1\n",
    "max_score = -1\n",
    "if score1 > score2:\n",
    "    print(\"Compared to hidden_layer_sizes=(100,2), (30,30,30) scores lower on the test set\")\n",
    "    hidden_layers = clf.hidden_layer_sizes\n",
    "    max_score = score1\n",
    "else:\n",
    "    print(\"Compared to hidden_layer_sizes=(100,2), (30,30,30) scores higher on the test set\")\n",
    "    hidden_layers = clf2.hidden_layer_sizes\n",
    "    max_score = score2\n",
    "\n",
    "print()\n",
    "\n",
    "clf3 = MLPClassifier(solver='lbfgs', alpha=1e-5, hidden_layer_sizes=hidden_layers, activation='logistic', random_state=1, max_iter=100, learning_rate_init=.01, warm_start=True)\n",
    "scores_train3 = []\n",
    "for i in range(1,10):\n",
    "    print(\"Iteration: \" + str(i) + \"-- \" + str(datetime.datetime.now()))\n",
    "    clf3.fit(X_train_sf_encoded, y_train)\n",
    "    score = clf3.score(X_train_sf_encoded, y_train)\n",
    "    scores_train3.append(score)\n",
    "\n",
    "plt.plot([i for i in range(len(scores_train3))], scores_train3)\n",
    "plt.ylabel('Score')\n",
    "plt.xlabel('Iteration')\n",
    "plt.show()\n",
    "\n",
    "# y_predicted3 = clf3.predict(X_train_sf_encoded[0:10])\n",
    "# print(y_predicted3)\n",
    "# print(y_train[0:10])\n",
    "# clf3.predict_proba(X_train_sf_encoded[0:10])\n",
    "\n",
    "score3 = clf3.score(X_test_sf_encoded, y_test)\n",
    "print(score3)\n",
    "if score3 > max_score:\n",
    "    print(\"Compared to default activation, sigmoid scores higher on the test set\")\n",
    "else:\n",
    "    print(\"Compared to default activation, sigmoid scores lower on the test set\")"
   ]
  },
  {
   "cell_type": "markdown",
   "metadata": {},
   "source": [
    "**(TO_DO - Q7 - Optional)** -- Comparer les résultats du perceptron multi-couches avec la régression logistique, aussi disponible dans sklearn. "
   ]
  },
  {
   "cell_type": "code",
   "execution_count": 19,
   "metadata": {},
   "outputs": [],
   "source": [
    "# Logistic regression\n",
    "from sklearn.linear_model import LogisticRegression\n",
    "# ...."
   ]
  },
  {
   "cell_type": "markdown",
   "metadata": {},
   "source": [
    "#### Signature\n",
    "\n",
    "Je, -------VOTRE NOM--------------, declare que les réponses inscrites dans ce notebook sont les miennes."
   ]
  },
  {
   "cell_type": "markdown",
   "metadata": {},
   "source": [
    "Oliver Charles Scott"
   ]
  }
 ],
 "metadata": {
  "kernelspec": {
   "display_name": "Python 3",
   "language": "python",
   "name": "python3"
  },
  "language_info": {
   "codemirror_mode": {
    "name": "ipython",
    "version": 3
   },
   "file_extension": ".py",
   "mimetype": "text/x-python",
   "name": "python",
   "nbconvert_exporter": "python",
   "pygments_lexer": "ipython3",
   "version": "3.7.1"
  }
 },
 "nbformat": 4,
 "nbformat_minor": 2
}

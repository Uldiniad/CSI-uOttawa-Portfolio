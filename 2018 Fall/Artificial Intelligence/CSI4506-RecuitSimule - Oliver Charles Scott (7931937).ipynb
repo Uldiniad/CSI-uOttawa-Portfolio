{
 "cells": [
  {
   "cell_type": "markdown",
   "metadata": {},
   "source": [
    "## Recuit simulé pour le problème du voyageur de commerce"
   ]
  },
  {
   "cell_type": "markdown",
   "metadata": {},
   "source": [
    "CSI4506 Intelligence Artificielle  \n",
    "Automne 2018  \n",
    "Caroline Barrière"
   ]
  },
  {
   "cell_type": "markdown",
   "metadata": {},
   "source": [
    "Ce devoir vous permettra de mieux comprendre les algorithmes de recherche aléatoire vus en classe, en particulier l'algorithme de *recuit simulé*, qui est une méthode connue qui exemplifie bien la *modification aléatoire*.  Au départ, une solution gloutonne est proposée.  Cette solution est révisée petit à petit pour arriver à une meilleure solution.\n",
    "\n",
    "Le domaine d'application utilisé ici pour expérimenter avec le *recuit simulé* est le problème du voyageur de commerce (Traveling salesman problem).  C'est un problème classique, dans lequel le but est de visiter toutes les villes d'un graphe interconnecté de villes, et ce, en parcourant la plus petite distance possible."
   ]
  },
  {
   "cell_type": "markdown",
   "metadata": {},
   "source": [
    "***DEVOIR***:  \n",
    "Parcourir le notebook, en exécutant chaque celle, une à une.  \n",
    "Pour chaque **(TO DO)**, effectuer les tâches demandées.  \n",
    "Quand vous avez terminé, signez (voir cette étape ajoutée à la fin) et soumettez votre notebook.\n",
    "***"
   ]
  },
  {
   "cell_type": "markdown",
   "metadata": {},
   "source": [
    "**1. Nous définissons d'abord un petit nombre de villes.**"
   ]
  },
  {
   "cell_type": "code",
   "execution_count": 1,
   "metadata": {},
   "outputs": [],
   "source": [
    "# let's define 5 cities with a label and a (x,y) coordinate\n",
    "cities = {'A': (0,0), 'B': (1,1), 'C': (1,0), 'D': (-1,1), 'E': (-1,-1)}"
   ]
  },
  {
   "cell_type": "markdown",
   "metadata": {},
   "source": [
    "La méthode *showNodes* ci-bas nous permet de visualiser la position des villes.\n",
    "Les packages **matplotlib** et **networkx** doivent d'abord être installés. \n",
    "Pour faire l'installation des packages, ouvrir une invite de commande, et tapez **pip install matplotlib**, ainsi que **pip install networkx**.  Une fois les packages installés, vous devrez probablement redémarrer le *kernel*.  Ensuite, vous serez en mesure d'exécuter la cellule ci-bas."
   ]
  },
  {
   "cell_type": "code",
   "execution_count": 2,
   "metadata": {},
   "outputs": [
    {
     "ename": "ModuleNotFoundError",
     "evalue": "No module named 'matplotlib'",
     "output_type": "error",
     "traceback": [
      "\u001b[1;31m---------------------------------------------------------------------------\u001b[0m",
      "\u001b[1;31mModuleNotFoundError\u001b[0m                       Traceback (most recent call last)",
      "\u001b[1;32m<ipython-input-2-ecb0c99a0188>\u001b[0m in \u001b[0;36m<module>\u001b[1;34m\u001b[0m\n\u001b[1;32m----> 1\u001b[1;33m \u001b[1;32mimport\u001b[0m \u001b[0mmatplotlib\u001b[0m\u001b[1;33m.\u001b[0m\u001b[0mpyplot\u001b[0m \u001b[1;32mas\u001b[0m \u001b[0mplt\u001b[0m\u001b[1;33m\u001b[0m\u001b[1;33m\u001b[0m\u001b[0m\n\u001b[0m\u001b[0;32m      2\u001b[0m \u001b[1;32mimport\u001b[0m \u001b[0mnetworkx\u001b[0m \u001b[1;32mas\u001b[0m \u001b[0mnx\u001b[0m\u001b[1;33m\u001b[0m\u001b[1;33m\u001b[0m\u001b[0m\n\u001b[0;32m      3\u001b[0m \u001b[1;33m\u001b[0m\u001b[0m\n\u001b[0;32m      4\u001b[0m \u001b[1;31m# small method to show nodes\u001b[0m\u001b[1;33m\u001b[0m\u001b[1;33m\u001b[0m\u001b[1;33m\u001b[0m\u001b[0m\n\u001b[0;32m      5\u001b[0m \u001b[1;31m# provide defaults for figure size (size), as well as x and y axis\u001b[0m\u001b[1;33m\u001b[0m\u001b[1;33m\u001b[0m\u001b[1;33m\u001b[0m\u001b[0m\n",
      "\u001b[1;31mModuleNotFoundError\u001b[0m: No module named 'matplotlib'"
     ]
    }
   ],
   "source": [
    "import matplotlib.pyplot as plt\n",
    "import networkx as nx\n",
    "\n",
    "# small method to show nodes\n",
    "# provide defaults for figure size (size), as well as x and y axis\n",
    "def showNodes(nodeDict, size= (6.5, 4), xLim=[-2,2], yLim=[-2,2]):\n",
    "    fig = plt.figure(figsize=size)\n",
    "    axg = fig.add_subplot(111)\n",
    "    axg.set_xlim(xLim)\n",
    "    axg.set_ylim(yLim)\n",
    "\n",
    "    G=nx.Graph()\n",
    "    for k in nodeDict.keys():\n",
    "        G.add_node(k, coor=nodeDict.get(k))\n",
    "    \n",
    "    pos=nx.get_node_attributes(G,'coor')\n",
    "    nx.draw(G, pos, with_labels = True)\n",
    "    plt.axis('on')\n",
    "    plt.show()"
   ]
  },
  {
   "cell_type": "code",
   "execution_count": null,
   "metadata": {},
   "outputs": [],
   "source": [
    "# show the cities on a map\n",
    "showNodes(cities)"
   ]
  },
  {
   "cell_type": "markdown",
   "metadata": {},
   "source": [
    "#### 2. Mesurons les distances entre les villes.\n",
    "D'abord, nous définissons une méthode pour calculer la distance entre deux villes spécifiques.  Ensuite nous définissons une méthode pour trouver l'ensemble des distances entre plusieurs paires de noeuds (villes)."
   ]
  },
  {
   "cell_type": "code",
   "execution_count": null,
   "metadata": {},
   "outputs": [],
   "source": [
    "import math\n",
    "\n",
    "# returns the euclidian distance between two nodes\n",
    "def dist(node1, node2):\n",
    "    return round(math.sqrt(math.pow(node1[0] - node2[0], 2) + math.pow(node1[1] - node2[1], 2)), 3)"
   ]
  },
  {
   "cell_type": "code",
   "execution_count": null,
   "metadata": {},
   "outputs": [],
   "source": [
    "# Small test to see the distance\n",
    "dist(cities.get('A'), cities.get('B'))"
   ]
  },
  {
   "cell_type": "code",
   "execution_count": null,
   "metadata": {},
   "outputs": [],
   "source": [
    "# building a dictionary of all pairs or ditances\n",
    "def distDict(nodes):\n",
    "    distance = {}\n",
    "    # go through all pairs of nodes\n",
    "    for k in nodes.keys():\n",
    "        for m in nodes.keys():\n",
    "            distance[k,m] = dist(nodes.get(k), nodes.get(m))\n",
    "    return distance"
   ]
  },
  {
   "cell_type": "code",
   "execution_count": null,
   "metadata": {},
   "outputs": [],
   "source": [
    "# showing the distances between the cities\n",
    "distances = distDict(cities)\n",
    "print(distances)"
   ]
  },
  {
   "cell_type": "markdown",
   "metadata": {},
   "source": [
    "Ajoutons aussi une méthode pour trouver la ville la plus proche d'une autre ville.  Cette méthode sera utile plus tard."
   ]
  },
  {
   "cell_type": "code",
   "execution_count": null,
   "metadata": {},
   "outputs": [],
   "source": [
    "# find the min distance from node1 to all other nodes.\n",
    "# it receives the node1 label, the labels of other nodes to test,\n",
    "# and the precalculated distances between all nodes\n",
    "def closestNode(node1_label, otherNodes_Labels, distanceDict):\n",
    "    # tricky syntax... it creates tuples where the distance is the first element of the tuple\n",
    "    # and the position in the array is the second element of the tuple\n",
    "    minDist = min( (distanceDict[node1_label,k], k) for k in otherNodes_Labels)\n",
    "    # get the second element of the tuple which is the index found\n",
    "    foundNode = minDist[1]\n",
    "    return foundNode"
   ]
  },
  {
   "cell_type": "code",
   "execution_count": null,
   "metadata": {},
   "outputs": [],
   "source": [
    "# Testing the closest node\n",
    "closestNode('B', ['C', 'D'], distances)"
   ]
  },
  {
   "cell_type": "markdown",
   "metadata": {},
   "source": [
    "#### 3. Solution gloutonne d'abord.\n",
    "Avant de pouvoir utiliser le *recuit simulé*, il faut une première solution.  Nous utilisons un algorithme glouton pour générer cette solution sous-optimale. "
   ]
  },
  {
   "cell_type": "code",
   "execution_count": null,
   "metadata": {},
   "outputs": [],
   "source": [
    "# greedy solution\n",
    "import random\n",
    "\n",
    "def greedy_solution(nodes):\n",
    "    # distance matrix\n",
    "    allDist = distDict(nodes)\n",
    "    # pick a first node at random among the set of keys (node names)\n",
    "    cur_node = random.choice(list(nodes.keys()))\n",
    "    # add that node to solution\n",
    "    solution = [cur_node]\n",
    "    # build a free list of nodes (not yet used) containing all nodes except the one just chosen \n",
    "    free_list = list(nodes.keys())\n",
    "    free_list.remove(cur_node)\n",
    "    \n",
    "    # while there are still nodes to be attached\n",
    "    while free_list:\n",
    "        # find the closestNode\n",
    "        found_node = closestNode(cur_node, free_list, allDist)\n",
    "        cur_node = found_node\n",
    "        free_list.remove(cur_node)\n",
    "        solution.append(cur_node)\n",
    "\n",
    "    return solution"
   ]
  },
  {
   "cell_type": "code",
   "execution_count": null,
   "metadata": {},
   "outputs": [],
   "source": [
    "# Test obtaining a greedy solution\n",
    "gs = greedy_solution(cities)\n",
    "print(gs)"
   ]
  },
  {
   "cell_type": "markdown",
   "metadata": {},
   "source": [
    "#### 4. Visualisation d'un chemin dans le graphe.  \n",
    "Nous modifions légèrement la méthode *showNodes* vue précédemment pour devenir *showPath* et montrer un chemin dans un graphe dirigé. "
   ]
  },
  {
   "cell_type": "code",
   "execution_count": null,
   "metadata": {},
   "outputs": [],
   "source": [
    "# small method to show a path\n",
    "# it receives an ordered list of nodes e.g. ['B','C','A', 'D', 'E']\n",
    "# and a dictionary of all the nodes and their positions\n",
    "def showPath(path, nodeDict, size= (6.5, 4), xLim=[-2,2], yLim=[-2,2]):\n",
    "    fig = plt.figure(figsize=size)\n",
    "    axg = fig.add_subplot(111)\n",
    "    axg.set_xlim(xLim)\n",
    "    axg.set_ylim(yLim)\n",
    "\n",
    "    G=nx.DiGraph()\n",
    "    for k in path:\n",
    "        G.add_node(k, pos=nodeDict.get(k))\n",
    "        \n",
    "    for i in range(len(path) - 1):\n",
    "        x = path[i]\n",
    "        y = path[i + 1]\n",
    "        G.add_edge(x,y)\n",
    "        \n",
    "    pos=nx.get_node_attributes(G,'pos')\n",
    "    nx.draw(G, pos, with_labels = True, edge_color = 'b', arrows=True)   \n",
    "    # nx.draw(G, pos, with_labels = True)\n",
    "    plt.axis('on')\n",
    "    plt.show()"
   ]
  },
  {
   "cell_type": "markdown",
   "metadata": {},
   "source": [
    "Un test pour visualiser 2 solutions gloutonnes."
   ]
  },
  {
   "cell_type": "code",
   "execution_count": null,
   "metadata": {},
   "outputs": [],
   "source": [
    "# Testing to output the path chosen by the greedy solution\n",
    "gs1 = greedy_solution(cities)\n",
    "print(gs1)\n",
    "showPath(gs1, cities)\n",
    "gs2 = greedy_solution(cities)\n",
    "print(gs2)\n",
    "showPath(gs2, cities)"
   ]
  },
  {
   "cell_type": "markdown",
   "metadata": {},
   "source": [
    "**(Q1 - TO DO)**  Executer le code ci-haut quelques fois, jusqu'à l'obtention de 2 solutions différentes. Combien de fois avez-vous dû exécuter le code ci-haut pour obtenir 2 solutions gloutonnes différentes?  Et quelles sont ces solutions?"
   ]
  },
  {
   "cell_type": "markdown",
   "metadata": {},
   "source": [
    "Nb d'exécutions :  2\n",
    "\n",
    "Chemins des 2 solutions générées : ['E', 'A', 'C', 'B', 'D']​, ['B', 'C', 'A', 'D', 'E']"
   ]
  },
  {
   "cell_type": "markdown",
   "metadata": {},
   "source": [
    "**(Q2 - TO DO)** Completer la méthode ci-bas pour trouver la longueur total d'un chemin. "
   ]
  },
  {
   "cell_type": "code",
   "execution_count": null,
   "metadata": {},
   "outputs": [],
   "source": [
    "# (TO DO) totalDistance, which receives a path (list of node labels) and the dictionary of distances\n",
    "def totalDist(path, distanceDict):\n",
    "    total = 0\n",
    "    for i in range(len(path) - 1):\n",
    "        x = path[i]\n",
    "        y = path[i+1]\n",
    "        total += distanceDict[x,y]\n",
    "    return round(total,3)"
   ]
  },
  {
   "cell_type": "code",
   "execution_count": null,
   "metadata": {},
   "outputs": [],
   "source": [
    "# Test the total distance method\n",
    "print(totalDist(gs1, distances))\n",
    "print(totalDist(gs2, distances))"
   ]
  },
  {
   "cell_type": "markdown",
   "metadata": {},
   "source": [
    "**(Q3 -- TO DO)** Ajouter 2 nouvelles villes (positionner les villes où vous voulez dans le graphe prédéfini de -2 à 2).  Donc, refaire la séquence d'étapes ci-haut (1) définir un graphe (qui sera *cities* avec 2 villes de plus), (2) visualiser les positions des villes (3) contruire le dictionnaire des distances (4) trouver deux solutions gloutonnes (5) montrer les chemins pour ces solutions. "
   ]
  },
  {
   "cell_type": "code",
   "execution_count": null,
   "metadata": {},
   "outputs": [],
   "source": [
    "# (1) defining a larger set of cities\n",
    "moreCities = {'A': (0,0), 'B': (1,1), 'C': (1,0), 'D': (-1,1), 'E': (-1,-1), 'F' : (0,1), 'G' : (0,-1)}\n",
    "# (2)\n",
    "showNodes(moreCities)\n",
    "# (3)\n",
    "moreDistances = distDict(moreCities)\n",
    "# (4)\n",
    "more_gs1 = greedy_solution(moreCities)\n",
    "more_gs2 = greedy_solution(moreCities)\n",
    "# (5)\n",
    "print(more_gs1)\n",
    "showPath(more_gs1, moreCities)\n",
    "print(more_gs2)\n",
    "showPath(more_gs2, moreCities)\n",
    "print(totalDist(more_gs1, moreDistances))\n",
    "print(totalDist(more_gs2, moreDistances))"
   ]
  },
  {
   "cell_type": "markdown",
   "metadata": {},
   "source": [
    "**5. Definissons le processus du recuit simulé**  \n",
    "La classe ci-bas définit le processus du recuit simulé.  Cette classe est une adaptation de la classe *anneal.py* qui se trouve dans le code python du github https://github.com/chncyhn/simulated-annealing-tsp. Vous n'avez pas à modifier cette classe, mais tenter de la comprendre pour assimiler l'algorithme du recuit simulé. "
   ]
  },
  {
   "cell_type": "code",
   "execution_count": null,
   "metadata": {},
   "outputs": [],
   "source": [
    "# class to perform a simulated annealing\n",
    "# must start with a set of nodes, all other parameters have defaults\n",
    "class SimAnneal(object):\n",
    "    def __init__(self, nodes, T=-1, alpha=-1, stopping_T=-1, stopping_iter=-1):\n",
    "        # set of nodes\n",
    "        self.nodes = nodes\n",
    "        # number of nodes\n",
    "        self.N = len(nodes)\n",
    "        # set the temperature T to sqrt(N) if not specified\n",
    "        self.T = math.sqrt(self.N) if T == -1 else T\n",
    "        # set alpha (rate at which the temperature is decreased)\n",
    "        self.alpha = 0.995 if alpha == -1 else alpha\n",
    "        # set stopping temprature\n",
    "        self.stopping_temperature = 0.00000001 if stopping_T == -1 else stopping_T\n",
    "        # set stopping iteration\n",
    "        self.stopping_iter = 100000 if stopping_iter == -1 else stopping_iter\n",
    "        # start at iteration 1\n",
    "        self.iteration = 1\n",
    "\n",
    "        # calculate the distances\n",
    "        self.allDist = distDict(nodes)\n",
    "        \n",
    "        # start with greedy solution\n",
    "        self.cur_solution = greedy_solution(nodes)\n",
    "        \n",
    "        # so far, the best solution is the one we have\n",
    "        self.best_solution = list(self.cur_solution)\n",
    "\n",
    "        # calculate fitness of the current solution\n",
    "        self.cur_fitness = self.fitness(self.cur_solution)\n",
    "        # initial fitness for initial solution\n",
    "        self.initial_fitness = self.cur_fitness\n",
    "        # best fitness so far\n",
    "        self.best_fitness = self.cur_fitness\n",
    "        # build the fitness list as we explore solutions\n",
    "        self.fitness_list = [self.cur_fitness]\n",
    "\n",
    "\n",
    "    def fitness(self, sol):\n",
    "        \"\"\" Objective value of a solution \"\"\"\n",
    "        return totalDist(sol, self.allDist)\n",
    "\n",
    "    # acceptance propability\n",
    "    def p_accept(self, candidate_fitness):\n",
    "        \"\"\"\n",
    "        Probability of accepting if the candidate is worse than current\n",
    "        Depends on the current temperature and difference between candidate and current\n",
    "        \"\"\"\n",
    "        return math.exp(-abs(candidate_fitness - self.cur_fitness) / self.T)\n",
    "\n",
    "    def accept(self, candidate):\n",
    "        \"\"\"\n",
    "        Accept with probability 1 if candidate is better than current\n",
    "        Accept with probabilty p_accept(..) if candidate is worse\n",
    "        \"\"\"\n",
    "        candidate_fitness = self.fitness(candidate)\n",
    "        # test if fitness is smaller then the current one\n",
    "        if candidate_fitness < self.cur_fitness:\n",
    "            self.cur_fitness = candidate_fitness\n",
    "            self.cur_solution = candidate\n",
    "            # test if fitness is better than best so far, keep it as best if so\n",
    "            if candidate_fitness < self.best_fitness:\n",
    "                self.best_fitness = candidate_fitness\n",
    "                self.best_solution = candidate\n",
    "\n",
    "        # if solution is worst than the current one, there is still a possibility to pursue it\n",
    "        else:\n",
    "            if random.random() < self.p_accept(candidate_fitness):\n",
    "                self.cur_fitness = candidate_fitness\n",
    "                self.cur_solution = candidate\n",
    "\n",
    "    def anneal(self):\n",
    "        \"\"\"\n",
    "        Execute simulated annealing algorithm\n",
    "        \"\"\"\n",
    "        # go through the temperature schedule\n",
    "        print(self.T)\n",
    "        print(self.stopping_temperature)\n",
    "        while (self.T >= self.stopping_temperature) and (self.iteration < self.stopping_iter):\n",
    "            # explore current solution\n",
    "            candidate = list(self.cur_solution)\n",
    "            # modify the solution to switch two cities\n",
    "            # first chosen city between [2,N-1] - not changing the first city\n",
    "            l = random.randint(2, self.N - 1)\n",
    "            # second city between [0,N-1] Not sure why ??\n",
    "            i = random.randint(0, self.N - l)\n",
    "            # the chosen nodes are switch\n",
    "            candidate[i:(i + l)] = reversed(candidate[i:(i + l)])\n",
    "            # perform acceptance test \n",
    "            self.accept(candidate)\n",
    "            # multiply the temperature by alpha (this will reduce it)\n",
    "            self.T *= self.alpha\n",
    "            self.iteration += 1\n",
    "            \n",
    "            # add current fitness to list (to be able to display)\n",
    "            self.fitness_list.append(self.cur_fitness)\n",
    "\n",
    "        print('Best fitness obtained: ', self.best_fitness)\n",
    "        print('Improvement over greedy heuristic: ',\n",
    "              round((self.initial_fitness - self.best_fitness) / (self.initial_fitness), 4))\n",
    "\n",
    "        return self.best_solution\n",
    "    \n",
    "    def plot_learning(self):\n",
    "        \"\"\"\n",
    "        Plot the fitness through iterations\n",
    "        \"\"\"\n",
    "        plt.plot([i for i in range(len(self.fitness_list))], self.fitness_list)\n",
    "        plt.ylabel('Fitness')\n",
    "        plt.xlabel('Iteration')\n",
    "        plt.show()\n"
   ]
  },
  {
   "cell_type": "markdown",
   "metadata": {},
   "source": [
    "#### 6. Refinement d'une solution gloutonne avec recuit simulé."
   ]
  },
  {
   "cell_type": "markdown",
   "metadata": {},
   "source": [
    "**(Q4 - TO DO)** Commentez chaque ligne du code ci-bas pour expliquer ce qui se passe.  Aussi exécuter le code quelques fois.  Cela vous montrera qu'il peut y avoir parfois un coût total plus bas en appliquant le recuit simulé."
   ]
  },
  {
   "cell_type": "code",
   "execution_count": null,
   "metadata": {},
   "outputs": [],
   "source": [
    "# Executes the greedy solution algorithm on a list of cities which is used to compare the solutions produced by SimAnneal\n",
    "firstSol = greedy_solution(cities)\n",
    "\n",
    "# Creates a dictionary of distances between all cities\n",
    "distances = distDict(cities)\n",
    "\n",
    "# Prints the greedy solution path and the total distance travelled using it\n",
    "print('Solution {} takes a total of {}'.format(firstSol,totalDist(firstSol, distances)))\n",
    "\n",
    "# Prints the path (produced by the greedy solution) on a graph\n",
    "showPath(firstSol, cities)\n",
    "\n",
    "# Initializes SimAnneal with the same list of cities\n",
    "# Sets the initial temperature, cooling rate, maximum number of iterations and stopping temperature to default values unless specified otherwise\n",
    "sa = SimAnneal(cities)\n",
    "\n",
    "# Executes the SimAnneal algorithm\n",
    "# Starts with a basic solution (provided by a greedy solution in this case) and attempts to improve it by swapping its nodes randomly\n",
    "# If it has a better fitness rating, it is kept as the current best solution\n",
    "# Stops when the temperature reaches the lower bound or if the number of iterations reaches the set maximum\n",
    "betterSol = sa.anneal()\n",
    "\n",
    "# Prints the path (produced by the SimAnneal solution) on a graph\n",
    "showPath(betterSol, cities)"
   ]
  },
  {
   "cell_type": "markdown",
   "metadata": {},
   "source": [
    "**7. Test à plus grande échelle**  \n",
    "Le fichier *coord.txt* (que vous trouverez aussi sur Brightspace dans la section des Jupyter Notebooks), contient un ensemble de coordonnées. Ce fichier de données est aussi tiré du github https://github.com/chncyhn/simulated-annealing-tsp.  Voici le début du fichier.\n",
    "\n",
    "1 0 0  \n",
    "2 3 5  \n",
    "3 2.5 9  \n",
    "4 48 16  \n",
    "5 48 17  \n",
    "6 69 16  \n",
    "...  \n",
    "\n",
    "Nous utiliserons le chiffre de la première colonne comme étiquette de la ville (e.g. ville 0, ville 1, ...) et les deux autres colonnes comme les coordonnées.\n",
    "\n",
    "Assurez-vous de mettre le fichier *coord.txt* dans le même répertoire que votre notebook (ou sinon changer le chemin d'accès dans le code ci-bas)."
   ]
  },
  {
   "cell_type": "code",
   "execution_count": null,
   "metadata": {},
   "outputs": [],
   "source": [
    "# reading the coordinates\n",
    "manyCities = {}\n",
    "with open('coord.txt','r') as f:\n",
    "    i = 0\n",
    "    for line in f.readlines():\n",
    "        line = [float(x.replace('\\n','')) for x in line.split(' ')]\n",
    "        label = str(int(line[0]))\n",
    "        manyCities[label] = (line[1], line[2])\n",
    "        i += 1"
   ]
  },
  {
   "cell_type": "markdown",
   "metadata": {},
   "source": [
    "Visualisons où sont les noeuds pour cet exemple."
   ]
  },
  {
   "cell_type": "code",
   "execution_count": null,
   "metadata": {},
   "outputs": [],
   "source": [
    "showNodes(manyCities, size=(15,15), xLim=[-75,100], yLim=[-110,60])"
   ]
  },
  {
   "cell_type": "markdown",
   "metadata": {},
   "source": [
    "Nous pouvons maintenant tester le processus de *recuit simulé* sur ce plus grand exemple.  Le code test est très similaire au code que vous avez commenté à la question (4) ci-haut.  Regarder l'étape supplémentaire, *plot_learning*, qui montre la valeur de la fonction de coût au fur et à mesure de la progression de l'algorithme. "
   ]
  },
  {
   "cell_type": "code",
   "execution_count": null,
   "metadata": {},
   "outputs": [],
   "source": [
    "firstSol = greedy_solution(manyCities)\n",
    "distances = distDict(manyCities)\n",
    "print('Solution {} takes a total of {}'.format(firstSol,totalDist(firstSol, distances)))\n",
    "showPath(firstSol, manyCities, size=(15,15), xLim=[-75,100], yLim=[-110,60])\n",
    "sa = SimAnneal(manyCities)\n",
    "betterSol = sa.anneal()\n",
    "sa.plot_learning()\n",
    "showPath(betterSol, manyCities, size=(15,15), xLim=[-75,100], yLim=[-110,60])"
   ]
  },
  {
   "cell_type": "markdown",
   "metadata": {},
   "source": [
    "**(Q5 - TO DO)** Tester le recuit simulé en variant certains paramètres, tel en faisant un changement sur les températures à explorer (T, stopping_T, alpha), ou encore sur le nombre d'itérations maximales à faire.  Ces paramètres sont tous des paramètres possibles à assigner à l'instantiation de la classe SimAnneal.  Faites 3-4 explorations et indiquer ce que vous tester."
   ]
  },
  {
   "cell_type": "code",
   "execution_count": null,
   "metadata": {},
   "outputs": [],
   "source": [
    "# (TO DO) Look at this line from the SimAnneal class above\n",
    "# def __init__(self, nodes, T=-1, alpha=-1, stopping_T=-1, stopping_iter=-1):\n",
    "# This means that parameters T, alpha, stopping_T and stopping_iter all have defaults, but could be changed\n",
    "# For example, calling SimAnneal(manyCities, stopping_iter=100) means that I set a maximum of 100 iterations.\n",
    "# Try a few variations and look at the differences\n",
    "\n",
    "# Test 1: Faster temperature decrease\n",
    "sa = SimAnneal(manyCities, -1, 0.1, -1, -1)\n",
    "betterSol = sa.anneal()\n",
    "sa.plot_learning()\n",
    "showPath(betterSol, manyCities, size=(15,15), xLim=[-75,100], yLim=[-110,60])\n",
    "# Generally too fast to be able to retrieve better solutions\n",
    "\n",
    "# Test 2: Higher starting temperature\n",
    "sa = SimAnneal(manyCities, len(manyCities))\n",
    "betterSol = sa.anneal()\n",
    "sa.plot_learning()\n",
    "showPath(betterSol, manyCities, size=(15,15), xLim=[-75,100], yLim=[-110,60])\n",
    "\n",
    "\n",
    "# Test 3: Reduce number of iterations\n",
    "sa = SimAnneal(manyCities, stopping_iter=100)\n",
    "betterSol = sa.anneal()\n",
    "sa.plot_learning()\n",
    "showPath(betterSol, manyCities, size=(15,15), xLim=[-75,100], yLim=[-110,60])\n",
    "# Shorter running times don't allow the algorithm to produce many better solutions"
   ]
  },
  {
   "cell_type": "markdown",
   "metadata": {},
   "source": [
    "**(Optionel - TO DO)**  Si vous vous intéressé à l'analyse de performance, vous pouvez tester une approche de solution optimale (telle la programmation dynamique) qui pourra explorer tout l'espace de solutions et trouver la solution optimale.  Une fois que vous avez cette solution, vous pourrez alors exécuter le *recuit simulé* 1000 fois et calculer le nombre de fois où la solution approximative s'est avéré être (ou être proche de) la solution optimale.  Faites rouler aussi 1000 fois la solution gloutonne et faites le même calcul.  Quelle solution semble la meilleure?"
   ]
  },
  {
   "cell_type": "markdown",
   "metadata": {},
   "source": [
    "#### Signature\n",
    "\n",
    "Je, Oliver Scott, declare que les réponses inscrites dans ce notebook sont les miennes."
   ]
  },
  {
   "cell_type": "code",
   "execution_count": null,
   "metadata": {},
   "outputs": [],
   "source": []
  }
 ],
 "metadata": {
  "kernelspec": {
   "display_name": "Python 3",
   "language": "python",
   "name": "python3"
  },
  "language_info": {
   "codemirror_mode": {
    "name": "ipython",
    "version": 3
   },
   "file_extension": ".py",
   "mimetype": "text/x-python",
   "name": "python",
   "nbconvert_exporter": "python",
   "pygments_lexer": "ipython3",
   "version": "3.7.1"
  }
 },
 "nbformat": 4,
 "nbformat_minor": 2
}

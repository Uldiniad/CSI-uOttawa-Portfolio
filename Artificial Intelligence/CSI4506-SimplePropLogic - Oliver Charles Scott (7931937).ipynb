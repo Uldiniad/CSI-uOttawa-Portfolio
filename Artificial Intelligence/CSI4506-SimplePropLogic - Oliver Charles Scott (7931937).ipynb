{
 "cells": [
  {
   "cell_type": "markdown",
   "metadata": {},
   "source": [
    "# Logique propositionnelle"
   ]
  },
  {
   "cell_type": "markdown",
   "metadata": {},
   "source": [
    "##### Un premier notebook pour se familiariser avec la logique propositionnelle."
   ]
  },
  {
   "cell_type": "markdown",
   "metadata": {},
   "source": [
    "Suivez les instructions, regarder et exécuter le code, cellule par cellule.  \n",
    "Quand vous voyez **(TO DO)**, c'est que c'est à votre tour de faire du travail.\n",
    "Lorsque vous avez terminé, soumettez!"
   ]
  },
  {
   "cell_type": "markdown",
   "metadata": {},
   "source": [
    "##### 1. Nous définissons des propositions simples et d'autres incluant des connecteurs logiques."
   ]
  },
  {
   "cell_type": "code",
   "execution_count": 1,
   "metadata": {},
   "outputs": [],
   "source": [
    "# We define 2 propositions\n",
    "P = True\n",
    "Q = False"
   ]
  },
  {
   "cell_type": "code",
   "execution_count": 2,
   "metadata": {},
   "outputs": [
    {
     "name": "stdout",
     "output_type": "stream",
     "text": [
      "Negation : False\n",
      "Conjunction:  : False\n",
      "Disjunction:  : True\n"
     ]
    }
   ],
   "source": [
    "# We print the value of simple connectives\n",
    "print('{} : {}'.format(\"Negation\", not(P)))\n",
    "print('{} : {}'.format(\"Conjunction: \", (P and Q)))\n",
    "print('{} : {}'.format(\"Disjunction: \", (P or Q)))"
   ]
  },
  {
   "cell_type": "code",
   "execution_count": 3,
   "metadata": {},
   "outputs": [
    {
     "name": "stdout",
     "output_type": "stream",
     "text": [
      "(P and Q) or (R and S) : False\n"
     ]
    }
   ],
   "source": [
    "# We print the value of more complex propositions\n",
    "P = True\n",
    "Q = False\n",
    "R = True\n",
    "S = False\n",
    "\n",
    "print('{} : {}'.format(\"(P and Q) or (R and S)\", (P and Q) or (R and S)))"
   ]
  },
  {
   "cell_type": "markdown",
   "metadata": {},
   "source": [
    "Python contient une fonction \"eval\" très utile, qui permet d'évaluer des chaînes de caractères (String)."
   ]
  },
  {
   "cell_type": "code",
   "execution_count": 4,
   "metadata": {},
   "outputs": [
    {
     "name": "stdout",
     "output_type": "stream",
     "text": [
      "(P or Q) and (R and not(S)) : True\n"
     ]
    }
   ],
   "source": [
    "str_proposition = '(P or Q) and (R and not(S))'\n",
    "print('{} : {}'.format(str_proposition, eval(str_proposition)))"
   ]
  },
  {
   "cell_type": "markdown",
   "metadata": {},
   "source": [
    "**(TO DO)** Définir et afficher d'autres propositions qui incluent des connecteurs."
   ]
  },
  {
   "cell_type": "code",
   "execution_count": 5,
   "metadata": {},
   "outputs": [
    {
     "name": "stdout",
     "output_type": "stream",
     "text": [
      "(P and not(Q)) or (R or not(S)) : True\n",
      "(P or not(Q)) and (S or not(R)) : False\n"
     ]
    }
   ],
   "source": [
    "# Try ...\n",
    "str_proposition1 = '(P and not(Q)) or (R or not(S))'\n",
    "print('{} : {}'.format(str_proposition1, eval(str_proposition1)))\n",
    "# Try ...\n",
    "str_proposition2 = '(P or not(Q)) and (S or not(R))'\n",
    "print('{} : {}'.format(str_proposition2, eval(str_proposition2)))"
   ]
  },
  {
   "cell_type": "markdown",
   "metadata": {},
   "source": [
    "##### 2. Les opérateurs d'implication, bi-conditionel, et ou-exclusif ne sont pas \"natif\" dans le langage, mais nous pouvons les définir d'autres façons.  Une façon donnée ci-bas est de définir nos opérateurs par une classe \"infix\".  Ne vous souciez pas du fonctionnement interne pour cette classe, nous ne ferons que l'utiliser."
   ]
  },
  {
   "cell_type": "code",
   "execution_count": 6,
   "metadata": {},
   "outputs": [],
   "source": [
    "# WHENEVER you use code that you found on the web, you MUST give your source.\n",
    "# from http://code.activestate.com/recipes/384122-infix-operators/\n",
    "\n",
    "# definition of an Infix operator class\n",
    "# this recipe also works in jython\n",
    "# calling sequence for the infix is either:\n",
    "#  x |op| y\n",
    "# or:\n",
    "# x <<op>> y\n",
    "\n",
    "class Infix:\n",
    "    def __init__(self, function):\n",
    "        self.function = function\n",
    "    def __ror__(self, other):\n",
    "        return Infix(lambda x, self=self, other=other: self.function(other, x))\n",
    "    def __or__(self, other):\n",
    "        return self.function(other)\n",
    "    def __rlshift__(self, other):\n",
    "        return Infix(lambda x, self=self, other=other: self.function(other, x))\n",
    "    def __rshift__(self, other):\n",
    "        return self.function(other)\n",
    "    def __call__(self, value1, value2):\n",
    "        return self.function(value1, value2)"
   ]
  },
  {
   "cell_type": "markdown",
   "metadata": {},
   "source": [
    "A l'aide de la classe Infix, nous pouvons définir d'autres connecteurs."
   ]
  },
  {
   "cell_type": "code",
   "execution_count": 7,
   "metadata": {},
   "outputs": [],
   "source": [
    "# Defining implication\n",
    "imply =  Infix(lambda x,y: not(x) or y)"
   ]
  },
  {
   "cell_type": "code",
   "execution_count": 8,
   "metadata": {},
   "outputs": [
    {
     "name": "stdout",
     "output_type": "stream",
     "text": [
      "False\n"
     ]
    }
   ],
   "source": [
    "# Testing implication\n",
    "P = True\n",
    "Q = False\n",
    "print(P |imply| Q)"
   ]
  },
  {
   "cell_type": "markdown",
   "metadata": {},
   "source": [
    "**(TO DO)** Definissez les deux autres connecteurs: bi-conditionnel et xor."
   ]
  },
  {
   "cell_type": "code",
   "execution_count": 9,
   "metadata": {},
   "outputs": [],
   "source": [
    "# Biconditional\n",
    "bicond = Infix(lambda x,y: (x |imply| y and y |imply| x))\n",
    "# XOR\n",
    "xor = Infix(lambda x,y: not(x |bicond| y))"
   ]
  },
  {
   "cell_type": "code",
   "execution_count": 10,
   "metadata": {},
   "outputs": [
    {
     "name": "stdout",
     "output_type": "stream",
     "text": [
      "True\n",
      "False\n"
     ]
    }
   ],
   "source": [
    "# Test your connectives\n",
    "print(eval('P |xor| Q'))\n",
    "print(eval('P |bicond| Q'))"
   ]
  },
  {
   "cell_type": "markdown",
   "metadata": {},
   "source": [
    "**(optionel)**  Il semblerait que python contient un autre opérateur logique \"caché\" (non-documenté)... pouvez-vous le trouver? "
   ]
  },
  {
   "cell_type": "markdown",
   "metadata": {},
   "source": [
    "##### 3. Regardons les tables de vérités.  Cela nous mènera éventuellement aux preuves par extension.  Pour nous aider à générer les extensions de multiples propositions, et leurs combinations, nous utiliserons des fonctions définies dans itertools."
   ]
  },
  {
   "cell_type": "markdown",
   "metadata": {},
   "source": [
    "**(optionel)**  Explorez les autres fonctions de itertools https://docs.python.org/3/library/itertools.html"
   ]
  },
  {
   "cell_type": "code",
   "execution_count": 11,
   "metadata": {},
   "outputs": [
    {
     "name": "stdout",
     "output_type": "stream",
     "text": [
      "(1, 4, 6)\n",
      "(1, 4, 7)\n",
      "(1, 4, 8)\n",
      "(1, 4, 9)\n",
      "(1, 5, 6)\n",
      "(1, 5, 7)\n",
      "(1, 5, 8)\n",
      "(1, 5, 9)\n",
      "(2, 4, 6)\n",
      "(2, 4, 7)\n",
      "(2, 4, 8)\n",
      "(2, 4, 9)\n",
      "(2, 5, 6)\n",
      "(2, 5, 7)\n",
      "(2, 5, 8)\n",
      "(2, 5, 9)\n",
      "(3, 4, 6)\n",
      "(3, 4, 7)\n",
      "(3, 4, 8)\n",
      "(3, 4, 9)\n",
      "(3, 5, 6)\n",
      "(3, 5, 7)\n",
      "(3, 5, 8)\n",
      "(3, 5, 9)\n"
     ]
    }
   ],
   "source": [
    "import itertools\n",
    "\n",
    "# See how we can generate all possibilities of 3 values\n",
    "listOLists = [[1,2,3],[4,5],[6,7,8,9]]\n",
    "for list in itertools.product(*listOLists):\n",
    "    print(list)"
   ]
  },
  {
   "cell_type": "code",
   "execution_count": 12,
   "metadata": {},
   "outputs": [],
   "source": [
    "# define a method to generate N extensions\n",
    "def generateExtensions(N):\n",
    "    values = ['True', 'False']\n",
    "    listOfValues = []\n",
    "    for i in range(0, N): \n",
    "        listOfValues += [values]\n",
    "    return listOfValues"
   ]
  },
  {
   "cell_type": "code",
   "execution_count": 13,
   "metadata": {},
   "outputs": [
    {
     "name": "stdout",
     "output_type": "stream",
     "text": [
      "[['True', 'False'], ['True', 'False'], ['True', 'False']]\n"
     ]
    }
   ],
   "source": [
    "# Testing the generation\n",
    "print(generateExtensions(3))"
   ]
  },
  {
   "cell_type": "markdown",
   "metadata": {},
   "source": [
    "**(TO DO)** Enlever les commentaires du code ci-bas pour afficher les extensions."
   ]
  },
  {
   "cell_type": "code",
   "execution_count": 14,
   "metadata": {},
   "outputs": [
    {
     "name": "stdout",
     "output_type": "stream",
     "text": [
      "Combinations of all possible extensions\n",
      "('True', 'True')\n",
      "('True', 'False')\n",
      "('False', 'True')\n",
      "('False', 'False')\n"
     ]
    }
   ],
   "source": [
    "# Look at an example of generation with 2 propositions.  You can\n",
    "# change to more symbols \n",
    "symbols = ['P', 'Q']\n",
    "listOfValues = generateExtensions(len(symbols))\n",
    "print(\"Combinations of all possible extensions\")\n",
    "for list in itertools.product(*listOfValues):\n",
    "   print(list)"
   ]
  },
  {
   "cell_type": "markdown",
   "metadata": {},
   "source": [
    "Définissons une méthode pour afficher les tables de vérité."
   ]
  },
  {
   "cell_type": "code",
   "execution_count": 15,
   "metadata": {},
   "outputs": [],
   "source": [
    "# The method below receives a set of symbols as string and a proposition\n",
    "# e.g. symbols would be ['P', 'Q'] and proposition would use these symbol in a wff such as 'P and (Q or P)'\n",
    "# The wff can use the infix operators defined earlier 'P |xor| Q'\n",
    "def print_truth_table(symbols, proposition):\n",
    "    listOfValues = generateExtensions(len(symbols))\n",
    "    for list in itertools.product(*listOfValues):\n",
    "        print(list)\n",
    "        expressionTest = proposition\n",
    "        for i in range(0,len(symbols)):\n",
    "            expressionTest = expressionTest.replace(symbols[i], list[i])\n",
    "        print(eval(expressionTest))"
   ]
  },
  {
   "cell_type": "markdown",
   "metadata": {},
   "source": [
    "**(TO DO)** Ajouter quelques tests ci-bas pour afficher d'autres propositions."
   ]
  },
  {
   "cell_type": "code",
   "execution_count": 16,
   "metadata": {},
   "outputs": [
    {
     "name": "stdout",
     "output_type": "stream",
     "text": [
      "('True', 'True')\n",
      "True\n",
      "('True', 'False')\n",
      "True\n",
      "('False', 'True')\n",
      "True\n",
      "('False', 'False')\n",
      "False\n",
      "\n",
      "('True', 'True')\n",
      "True\n",
      "('True', 'False')\n",
      "False\n",
      "('False', 'True')\n",
      "False\n",
      "('False', 'False')\n",
      "False\n",
      "\n",
      "('True', 'True')\n",
      "True\n",
      "('True', 'False')\n",
      "False\n",
      "('False', 'True')\n",
      "True\n",
      "('False', 'False')\n",
      "True\n",
      "\n",
      "('True', 'True')\n",
      "False\n",
      "('True', 'False')\n",
      "True\n",
      "('False', 'True')\n",
      "True\n",
      "('False', 'False')\n",
      "False\n"
     ]
    }
   ],
   "source": [
    "# A first test\n",
    "print_truth_table(['P','Q'], 'P or Q')\n",
    "# More tests ...\n",
    "print()\n",
    "print_truth_table(['P','Q'], 'P and Q')\n",
    "print()\n",
    "print_truth_table(['P','Q'], 'P |imply| Q')\n",
    "print()\n",
    "print_truth_table(['P','Q'], 'P |xor| Q')"
   ]
  },
  {
   "cell_type": "markdown",
   "metadata": {},
   "source": [
    "##### 4. Tautologies, equivalences and lois logiques."
   ]
  },
  {
   "cell_type": "markdown",
   "metadata": {},
   "source": [
    "Définissons une méthode qui permettra de détecter une tautologie."
   ]
  },
  {
   "cell_type": "markdown",
   "metadata": {},
   "source": [
    "**(TO DO)** Expliquer dans le commentaire ci-bas ce qu'est une tautologie. Vous pouvez ajouter des affichages pour comprendre comment la méthode fonctionne."
   ]
  },
  {
   "cell_type": "code",
   "execution_count": 17,
   "metadata": {},
   "outputs": [],
   "source": [
    "# Test for a tautology\n",
    "# A tautology is a statement that, for all values of its extension, is true.\n",
    "\n",
    "def is_tautology(symbols, proposition):\n",
    "    allTrue = True\n",
    "    listOfValues = generateExtensions(len(symbols))\n",
    "    for list in itertools.product(*listOfValues):\n",
    "        expressionTest = proposition\n",
    "        for i in range(0,len(symbols)):\n",
    "            expressionTest = expressionTest.replace(symbols[i], list[i])\n",
    "        if not(eval(expressionTest)):\n",
    "            allTrue = False\n",
    "    return allTrue"
   ]
  },
  {
   "cell_type": "markdown",
   "metadata": {},
   "source": [
    "**(TO DO)** Ajouter d'autres tests ci-bas."
   ]
  },
  {
   "cell_type": "code",
   "execution_count": 18,
   "metadata": {},
   "outputs": [
    {
     "name": "stdout",
     "output_type": "stream",
     "text": [
      "True\n",
      "False\n",
      "True\n"
     ]
    }
   ],
   "source": [
    "# A first test\n",
    "print(is_tautology(['P', 'Q'], '(P or Q or not(P) or not(Q))'))\n",
    "# more tests ....\n",
    "print(is_tautology(['P', 'Q'], '(P and not(P))'))\n",
    "print(is_tautology(['P', 'Q'], '(P |xor| (not(P)))'))"
   ]
  },
  {
   "cell_type": "markdown",
   "metadata": {},
   "source": [
    "Définissons une méthode pour tester si deux propositions sont équivalents.  Cela servira pour les preuves par extension."
   ]
  },
  {
   "cell_type": "code",
   "execution_count": 19,
   "metadata": {},
   "outputs": [],
   "source": [
    "# Test for equivalence\n",
    "\n",
    "# establish the equivalence of proposition1 and proposition2.  \n",
    "# The set of used symbols must be provided in the first parameter.\n",
    "def is_equivalent(symbols, prop1, prop2):\n",
    "    allSame = True\n",
    "    listOfValues = generateExtensions(len(symbols))\n",
    "    for list in itertools.product(*listOfValues):\n",
    "        p1_test = prop1\n",
    "        p2_test = prop2\n",
    "        for i in range(0,len(symbols)):\n",
    "            p1_test = p1_test.replace(symbols[i], list[i])\n",
    "            p2_test = p2_test.replace(symbols[i], list[i])\n",
    "        if not(eval(p1_test) == eval(p2_test)):\n",
    "            allSame = False\n",
    "    return allSame"
   ]
  },
  {
   "cell_type": "code",
   "execution_count": 20,
   "metadata": {},
   "outputs": [
    {
     "name": "stdout",
     "output_type": "stream",
     "text": [
      "False\n",
      "True\n",
      "True\n"
     ]
    }
   ],
   "source": [
    "# Testing a few propositions for equivalence\n",
    "print(is_equivalent(['P', 'Q', 'R'], '(P or Q or R)', '(P and (Q or R))'))\n",
    "print(is_equivalent(['P', 'Q'], '(P or Q)', '(P or Q)'))\n",
    "print(is_equivalent(['P', 'Q'], '(P |imply| Q)', '(not(P) or Q)'))"
   ]
  },
  {
   "cell_type": "markdown",
   "metadata": {},
   "source": [
    "**(TO DO)** Ajouter des tests d'équivalence pour montrer les lois logiques: loi de De Morgan's, associativité, commutativité, distributivité, conditionelle, contrapositive."
   ]
  },
  {
   "cell_type": "code",
   "execution_count": 21,
   "metadata": {},
   "outputs": [
    {
     "name": "stdout",
     "output_type": "stream",
     "text": [
      "True\n",
      "True\n",
      "True\n",
      "True\n",
      "True\n",
      "True\n"
     ]
    }
   ],
   "source": [
    "# Equivalence tests\n",
    "print(is_equivalent(['P', 'Q'], '(P and Q)', 'not((not(P) or not(Q)))')) # De Morgan\n",
    "print(is_equivalent(['P', 'Q', 'R'], '(P and (Q and R))', '((P and Q) and R)')) # Associativity\n",
    "print(is_equivalent(['P', 'Q'], '(P or Q)', '(Q or P)')) # Commutativity\n",
    "print(is_equivalent(['P', 'Q', 'R'], '(P or (Q and R))', '(P or Q) and (P or R)')) # Distributivity\n",
    "print(is_equivalent(['P', 'Q'], 'P |imply| Q', 'not(P) or Q')) # Conditional\n",
    "print(is_equivalent(['P', 'Q'], 'P |imply| Q', '(not(Q)) |imply| (not(P))')) # Contrapositive"
   ]
  },
  {
   "cell_type": "markdown",
   "metadata": {},
   "source": [
    "#####  Voilà!  Votre premier notebook est TERMINÉ!  Your first notebook is DONE!!!  Cela vous a permis, je l'espère, d'en apprendre un peu plus sur la logique propositionnelle, et sur python."
   ]
  },
  {
   "cell_type": "code",
   "execution_count": null,
   "metadata": {},
   "outputs": [],
   "source": []
  }
 ],
 "metadata": {
  "kernelspec": {
   "display_name": "Python 3",
   "language": "python",
   "name": "python3"
  },
  "language_info": {
   "codemirror_mode": {
    "name": "ipython",
    "version": 3
   },
   "file_extension": ".py",
   "mimetype": "text/x-python",
   "name": "python",
   "nbconvert_exporter": "python",
   "pygments_lexer": "ipython3",
   "version": "3.7.0"
  }
 },
 "nbformat": 4,
 "nbformat_minor": 2
}
